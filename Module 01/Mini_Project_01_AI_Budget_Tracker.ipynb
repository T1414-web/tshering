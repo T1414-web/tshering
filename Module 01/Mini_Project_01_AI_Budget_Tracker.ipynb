{
  "cells": [
    {
      "cell_type": "markdown",
      "metadata": {
        "id": "view-in-github",
        "colab_type": "text"
      },
      "source": [
        "<a href=\"https://colab.research.google.com/github/T1414-web/tshering/blob/main/Module%2001/Mini_Project_01_AI_Budget_Tracker.ipynb\" target=\"_parent\"><img src=\"https://colab.research.google.com/assets/colab-badge.svg\" alt=\"Open In Colab\"/></a>"
      ]
    },
    {
      "cell_type": "markdown",
      "id": "45b851c9",
      "metadata": {
        "id": "45b851c9"
      },
      "source": [
        "# Mini Project 01: AI-Powered Budget Tracker\n",
        "# ISYS2001 Introduction to Business Programming\n",
        "\n",
        "**Instructions:**\n",
        "1. Save a copy of this notebook to your Google Drive (File > Save a copy in Drive)  \n",
        "2. Rename it to include your name: `Week1_Budget_Tracker_[YourName]`  \n",
        "3. Complete all sections and code cells  \n",
        "4. Document your AI interactions as you go\n"
      ]
    },
    {
      "cell_type": "markdown",
      "id": "a60fc4c8",
      "metadata": {
        "id": "a60fc4c8"
      },
      "source": [
        "## Part 1: Environment Setup and First Steps"
      ]
    },
    {
      "cell_type": "code",
      "execution_count": 1,
      "id": "2e576bd1",
      "metadata": {
        "id": "2e576bd1",
        "colab": {
          "base_uri": "https://localhost:8080/"
        },
        "outputId": "6c3da8f3-2f51-44b8-f3bf-ab029450b5a8"
      },
      "outputs": [
        {
          "output_type": "stream",
          "name": "stdout",
          "text": [
            "🎉 Welcome to ISYS2001: Introduction to Business Programming!\n",
            "📊 Project: Personal Finance Assistant\n",
            "🤖 Today's Goal: Build a Simple Budget Tracker with AI Help\n",
            "\n",
            "📅 Worksheet started at: 2025-08-07 05:31:29\n"
          ]
        }
      ],
      "source": [
        "# Run this cell to test your environment\n",
        "print(\"🎉 Welcome to ISYS2001: Introduction to Business Programming!\")\n",
        "print(\"📊 Project: Personal Finance Assistant\")\n",
        "print(\"🤖 Today's Goal: Build a Simple Budget Tracker with AI Help\")\n",
        "\n",
        "# Import datetime to timestamp your work\n",
        "from datetime import datetime\n",
        "print(f\"\\n📅 Worksheet started at: {datetime.now().strftime('%Y-%m-%d %H:%M:%S')}\")"
      ]
    },
    {
      "cell_type": "markdown",
      "id": "7ac0ada2",
      "metadata": {
        "id": "7ac0ada2"
      },
      "source": [
        "## Part 2: Your First AI Prompt\n",
        "\n",
        "Use an AI assistant (Gemini in Colab, ChatGPT, or GitHub Copilot) to create a program that:\n",
        "- Asks the user for their name\n",
        "- Asks for their monthly income  \n",
        "- Prints a personalized welcome message\n",
        "\n",
        "### 📝 Document Your AI Prompt Below:"
      ]
    },
    {
      "cell_type": "code",
      "execution_count": 4,
      "id": "62045e66",
      "metadata": {
        "id": "62045e66",
        "colab": {
          "base_uri": "https://localhost:8080/"
        },
        "outputId": "171f00ef-6225-48c3-d3cb-8c0dde2a0e72"
      },
      "outputs": [
        {
          "output_type": "stream",
          "name": "stdout",
          "text": [
            "What is your name? tshering\n",
            "What is your monthly income? 2000 aud\n",
            "Welcome, tshering! It's great to know you're earning $2000 aud per month.\n"
          ]
        }
      ],
      "source": [
        "# TASK: Write your AI prompt as a comment below\n",
        "\"\"\"\n",
        "My AI Prompt:\n",
        "[write a simple program which ask the user for thier name, monthly earning.]\n",
        "\"\"\"\n",
        "\n",
        "# Paste the AI-generated code below:\n",
        "name = input(\"What is your name? \")\n",
        "income = input(\"What is your monthly income? \")\n",
        "print(f\"Welcome, {name}! It's great to know you're earning ${income} per month.\")"
      ]
    },
    {
      "cell_type": "markdown",
      "id": "daaaec49",
      "metadata": {
        "id": "daaaec49"
      },
      "source": [
        "### 🔍 Evidence Package Entry #1"
      ]
    },
    {
      "cell_type": "code",
      "execution_count": 6,
      "id": "667d3549",
      "metadata": {
        "id": "667d3549",
        "colab": {
          "base_uri": "https://localhost:8080/"
        },
        "outputId": "8fe217dc-3bec-4c98-e2d6-37fd2bb8d0de"
      },
      "outputs": [
        {
          "output_type": "stream",
          "name": "stdout",
          "text": [
            "📋 EVIDENCE PACKAGE #1\n",
            "timestamp: 2025-08-07 05:44:53\n",
            "context: I wanted to create a simple input/output program to practice AI prompting\n",
            "ai_tool_used: Gemini/ChatGPT/Copilot\n",
            "what_worked: The AI understood my request and generated easy and a simple python code to met my requirements\n",
            "what_didnt: I had to clarify how i wanted the message to be fornatted.\n",
            "what_i_learned: I learned that specific prompts with clear and understable way to produce better AI respsonses\n"
          ]
        }
      ],
      "source": [
        "# Evidence Package Documentation\n",
        "evidence_1 = {\n",
        "    \"timestamp\": datetime.now().strftime('%Y-%m-%d %H:%M:%S'),\n",
        "    \"context\": \"I wanted to create a simple input/output program to practice AI prompting\",\n",
        "    \"ai_tool_used\": \"Gemini/ChatGPT/Copilot\",  # Update this\n",
        "    \"what_worked\": \"The AI understood my request and generated easy and a simple python code to met my requirements\",\n",
        "    \"what_didnt\": \"I had to clarify how i wanted the message to be fornatted.\",\n",
        "    \"what_i_learned\": \"I learned that specific prompts with clear and understable way to produce better AI respsonses\"\n",
        "}\n",
        "\n",
        "# Display your evidence\n",
        "print(\"📋 EVIDENCE PACKAGE #1\")\n",
        "for key, value in evidence_1.items():\n",
        "    print(f\"{key}: {value}\")"
      ]
    },
    {
      "cell_type": "markdown",
      "id": "182c831f",
      "metadata": {
        "id": "182c831f"
      },
      "source": [
        "## Part 3: Building the Budget Tracker\n",
        "\n",
        "Use AI to help you write a program that:\n",
        "- Allows users to input their monthly income\n",
        "- Allows users to input up to 3 expenses  \n",
        "- Calculates remaining budget\n",
        "- Shows a warning if budget is negative\n",
        "\n",
        "### 💡 Pro Tip: Be specific about requirements!"
      ]
    },
    {
      "cell_type": "code",
      "execution_count": 9,
      "id": "74e672e3",
      "metadata": {
        "id": "74e672e3",
        "colab": {
          "base_uri": "https://localhost:8080/",
          "height": 87
        },
        "outputId": "b648cfad-9068-44e1-d7bc-758e5914d8a1"
      },
      "outputs": [
        {
          "output_type": "execute_result",
          "data": {
            "text/plain": [
              "'\\nMy Budget Tracker Prompt:\\n# Paste your prompt for the AI here, describing the budget tracker program you want it to create.\\n# Remember the requirements:\\n# - Allows users to input their monthly income\\n# - Allows users to input up to 3 expenses\\n# - Calculates remaining budget\\n# - Shows a warning if budget is negative\\n#\\n# Example Prompt:\\n# \"Write a Python program that asks the user for their monthly income and then allows them to enter up to three expenses. After entering the expenses, calculate the remaining budget and print a warning if the budget is negative.\"\\n'"
            ],
            "application/vnd.google.colaboratory.intrinsic+json": {
              "type": "string"
            }
          },
          "metadata": {},
          "execution_count": 9
        }
      ],
      "source": [
        "# TASK: Write your detailed prompt for the budget tracker\n",
        "\"\"\"\n",
        "My Budget Tracker Prompt:\n",
        "# Paste your prompt for the AI here, describing the budget tracker program you want it to create.\n",
        "# Remember the requirements:\n",
        "# - Allows users to input their monthly income\n",
        "# - Allows users to input up to 3 expenses\n",
        "# - Calculates remaining budget\n",
        "# - Shows a warning if budget is negative\n",
        "#\n",
        "# Example Prompt:\n",
        "# \"Write a Python program that asks the user for their monthly income and then allows them to enter up to three expenses. After entering the expenses, calculate the remaining budget and print a warning if the budget is negative.\"\n",
        "\"\"\"\n",
        "# The AI-generated code will go in the next cell (2501e778)"
      ]
    },
    {
      "cell_type": "markdown",
      "id": "4bcfacf4",
      "metadata": {
        "id": "4bcfacf4"
      },
      "source": [
        "### Paste and Test Your AI-Generated Budget Tracker"
      ]
    },
    {
      "cell_type": "code",
      "execution_count": null,
      "id": "2501e778",
      "metadata": {
        "id": "2501e778"
      },
      "outputs": [],
      "source": [
        "# AI-GENERATED BUDGET TRACKER CODE\n",
        "# [Paste your code here]"
      ]
    },
    {
      "cell_type": "markdown",
      "id": "f541d525",
      "metadata": {
        "id": "f541d525"
      },
      "source": [
        "### 🐛 Debugging and Refinement"
      ]
    },
    {
      "cell_type": "code",
      "execution_count": null,
      "id": "3f624a27",
      "metadata": {
        "id": "3f624a27"
      },
      "outputs": [],
      "source": [
        "# Document any issues and fixes\n",
        "issues_found = [\n",
        "    \"Issue 1: [Describe the problem]\",\n",
        "    \"Fix 1: [How you solved it]\",\n",
        "    # Add more as needed\n",
        "]\n",
        "\n",
        "print(\"🔧 DEBUGGING NOTES:\")\n",
        "for item in issues_found:\n",
        "    print(f\"- {item}\")"
      ]
    },
    {
      "cell_type": "code",
      "execution_count": null,
      "id": "0772261d",
      "metadata": {
        "id": "0772261d"
      },
      "outputs": [],
      "source": [
        "# REFINED VERSION - Your Working Budget Tracker\n",
        "# [Paste your corrected/improved code here]"
      ]
    },
    {
      "cell_type": "markdown",
      "id": "ca842a66",
      "metadata": {
        "id": "ca842a66"
      },
      "source": [
        "## Part 4: Enhancement Challenge\n",
        "\n",
        "Choose ONE feature to add using AI assistance:\n",
        "- 🏷️ Expense categories (food, transport, entertainment)\n",
        "- 📊 Show percentage of income spent\n",
        "- ✅ Input validation (no negative numbers)\n",
        "- 📝 Detailed budget summary with advice"
      ]
    },
    {
      "cell_type": "code",
      "execution_count": null,
      "id": "fbd649d2",
      "metadata": {
        "id": "fbd649d2"
      },
      "outputs": [],
      "source": [
        "# Document your enhancement\n",
        "enhancement_choice = \"I chose to add: [your choice]\"\n",
        "enhancement_prompt = \"\"\"\n",
        "[Write the prompt you used to add this feature]\n",
        "\"\"\"\n",
        "\n",
        "print(f\"🚀 ENHANCEMENT: {enhancement_choice}\")"
      ]
    },
    {
      "cell_type": "code",
      "execution_count": null,
      "id": "b12879f3",
      "metadata": {
        "id": "b12879f3"
      },
      "outputs": [],
      "source": [
        "# ENHANCED BUDGET TRACKER\n",
        "# [Paste your enhanced code here]"
      ]
    },
    {
      "cell_type": "markdown",
      "id": "cfa2845b",
      "metadata": {
        "id": "cfa2845b"
      },
      "source": [
        "## Part 5: Reflection and Lab Exit Ticket Preparation"
      ]
    },
    {
      "cell_type": "code",
      "execution_count": null,
      "id": "220ff6b4",
      "metadata": {
        "id": "220ff6b4"
      },
      "outputs": [],
      "source": [
        "# Final Evidence Package Summary\n",
        "evidence_2 = {\n",
        "    \"timestamp\": datetime.now().strftime('%Y-%m-%d %H:%M:%S'),\n",
        "    \"context\": \"Creating the full budget tracker with enhancements\",\n",
        "    \"ai_tool_used\": \"[Your AI tool]\",\n",
        "    \"prompts_used\": 3,  # Update this number\n",
        "    \"iterations_needed\": 2,  # How many times you refined\n",
        "    \"final_reflection\": \"[What you learned about AI-assisted programming]\"\n",
        "}\n",
        "\n",
        "print(\"📋 EVIDENCE PACKAGE #2 (Final)\")\n",
        "for key, value in evidence_2.items():\n",
        "    print(f\"{key}: {value}\")"
      ]
    },
    {
      "cell_type": "markdown",
      "id": "69d17be0",
      "metadata": {
        "id": "69d17be0"
      },
      "source": [
        "## 🎯 Submission Checklist\n",
        "\n",
        "Before submitting:\n",
        "- ✅ All code cells run without errors\n",
        "- ✅ You've documented at least 2 AI interactions  \n",
        "- ✅ Budget tracker accepts income and 3+ expenses\n",
        "- ✅ Completed both Evidence Packages\n",
        "- ✅ Attempted the enhancement challenge\n",
        "- ✅ Reflected on your AI collaboration experience"
      ]
    },
    {
      "cell_type": "code",
      "execution_count": null,
      "id": "0d85c2f1",
      "metadata": {
        "id": "0d85c2f1"
      },
      "outputs": [],
      "source": [
        "# Generate submission summary\n",
        "print(\"=\"*50)\n",
        "print(\"WEEK 1 WORKSHEET COMPLETION SUMMARY\")\n",
        "print(\"=\"*50)\n",
        "print(f\"Student Name: [Your Name]\")\n",
        "print(f\"Completion Time: {datetime.now().strftime('%Y-%m-%d %H:%M:%S')}\")\n",
        "print(\"\\nCore Features Implemented:\")\n",
        "print(\"✅ Basic income/expense input\")\n",
        "print(\"✅ Budget calculation\")\n",
        "print(\"✅ Warning for negative budget\")\n",
        "print(\"✅ Enhancement: [Your enhancement]\")\n",
        "print(\"\\nAI Collaboration Stats:\")\n",
        "print(f\"- AI tools used: [List them]\")\n",
        "print(f\"- Number of prompts: [Count]\")\n",
        "print(f\"- Success rate: [Estimate]%\")\n",
        "print(\"\\n🎉 Ready for Lab Exit Ticket submission!\")"
      ]
    },
    {
      "cell_type": "markdown",
      "id": "63b51742",
      "metadata": {
        "id": "63b51742"
      },
      "source": [
        "## 💭 Final Reflection Questions\n",
        "\n",
        "**1. What surprised you most about working with AI to generate code?**  \n",
        "[Your answer here]\n",
        "\n",
        "**2. What makes a good prompt vs. a poor prompt?**  \n",
        "[Your answer here]\n",
        "\n",
        "**3. How do you see AI tools fitting into your future programming workflow?**  \n",
        "[Your answer here]\n",
        "\n",
        "---\n",
        "\n",
        "### 📁 Save and Next Steps:\n",
        "1. File > Save a copy in GitHub (if you haven't already)    \n",
        "2. Prepare evidence for next lab session for the Exit Ticket  \n",
        "3. Start thinking about Week 2: Variables & Data Types!\n"
      ]
    },
    {
      "cell_type": "code",
      "source": [],
      "metadata": {
        "id": "rdAf6Gc517wB"
      },
      "id": "rdAf6Gc517wB",
      "execution_count": null,
      "outputs": []
    }
  ],
  "metadata": {
    "colab": {
      "provenance": [],
      "include_colab_link": true
    },
    "language_info": {
      "name": "python"
    },
    "kernelspec": {
      "name": "python3",
      "display_name": "Python 3"
    }
  },
  "nbformat": 4,
  "nbformat_minor": 5
}