{
  "cells": [
    {
      "cell_type": "markdown",
      "metadata": {
        "id": "view-in-github",
        "colab_type": "text"
      },
      "source": [
        "<a href=\"https://colab.research.google.com/github/T1414-web/tshering/blob/main/Module%2003%20-%20Making%20Computers%20Think/week3_finance_miniproject.ipynb\" target=\"_parent\"><img src=\"https://colab.research.google.com/assets/colab-badge.svg\" alt=\"Open In Colab\"/></a>"
      ]
    },
    {
      "cell_type": "markdown",
      "metadata": {
        "id": "m2WIkVMIUSZ8"
      },
      "source": [
        "# Week 3 Mini-Project: Smart Budget Decisions\n",
        "\n",
        "## Project Overview\n",
        "\n",
        "This week, you'll build the **decision-making foundation** for your personal finance tracker. By the end, you'll have a program that makes smart budget decisions - the same logic patterns you learned with grade calculators, but applied to real financial scenarios.\n",
        "\n",
        "## Learning Objectives\n",
        "\n",
        "- Apply if/elif/else to financial decision making\n",
        "- Practice input validation with money amounts\n",
        "- Build reusable financial logic patterns\n",
        "- Start your semester-long finance tracker project"
      ]
    },
    {
      "cell_type": "markdown",
      "metadata": {
        "id": "Q9hIwzzqUSaA"
      },
      "source": [
        "---\n",
        "\n",
        "## Part 1: Warm-Up - Pattern Recognition (10 minutes)\n",
        "\n",
        "### From Grades to Money\n",
        "You've learned to classify test scores into letter grades. Let's apply the **exact same pattern** to classify expenses:\n",
        "\n",
        "**Grade Classifier** (familiar):\n",
        "```python\n",
        "if score >= 90:\n",
        "    grade = \"A\"\n",
        "elif score >= 80:\n",
        "    grade = \"B\"\n",
        "# ... etc\n",
        "```\n",
        "\n",
        "**Expense Classifier** (new domain, same logic):\n",
        "```python\n",
        "if amount >= 100:\n",
        "    category = \"Major Expense\"\n",
        "elif amount >= 50:\n",
        "    category = \"Moderate Expense\"\n",
        "elif amount >= 10:\n",
        "    category = \"Minor Expense\"\n",
        "else:\n",
        "    category = \"Small Purchase\"\n",
        "```\n",
        "\n",
        "**Your Task**: Write a complete expense classifier that:\n",
        "\n",
        "1. Asks user for an expense amount\n",
        "2. Classifies it using the ranges above\n",
        "3. Prints a helpful message for each category\n",
        "\n",
        "---\n",
        "\n",
        "## Part 2: Financial Decision Logic (15 minutes)\n",
        "\n",
        "### Budget Limit Checker\n",
        "Apply your if/else skills to real budget management:"
      ]
    },
    {
      "cell_type": "code",
      "metadata": {
        "id": "NR7GJYpSUSaB",
        "colab": {
          "base_uri": "https://localhost:8080/"
        },
        "outputId": "1e869089-30d4-4383-a3e8-902e07369ae3"
      },
      "source": [
        "print(\"=== Budget Limit Checker ===\")\n",
        "\n",
        "# Get user's budget and expense\n",
        "monthly_budget = float(input(\"Enter your monthly budget: $\"))\n",
        "expense = float(input(\"Enter expense amount: $\"))\n",
        "\n",
        "# Decision logic\n",
        "if expense > (0.5 * monthly_budget):\n",
        "    print(\"Major purchase - think carefully!\")\n",
        "elif expense > (0.25 * monthly_budget):\n",
        "    print(\"Significant expense.\")\n",
        "elif expense > (0.10 * monthly_budget):\n",
        "    print(\"Moderate expense.\")\n",
        "else:\n",
        "    print(\"Minor expense - within budget.\")\n",
        "\n",
        "    # Calculate remaining budget\n",
        "remaining = monthly_budget - expense\n",
        "print(f\"Remaining budget: ${remaining:.2f}\")"
      ],
      "execution_count": 19,
      "outputs": [
        {
          "output_type": "stream",
          "name": "stdout",
          "text": [
            "=== Budget Limit Checker ===\n",
            "Enter your monthly budget: $4000\n",
            "Enter expense amount: $700\n",
            "Moderate expense.\n",
            "Remaining budget: $3300.00\n"
          ]
        }
      ]
    },
    {
      "cell_type": "markdown",
      "metadata": {
        "id": "7QFSIplCUSaC"
      },
      "source": [
        "### Savings Goal Progress\n",
        "Use multiple conditions to track savings progress:"
      ]
    },
    {
      "cell_type": "code",
      "metadata": {
        "id": "2c8oBvIPUSaC",
        "colab": {
          "base_uri": "https://localhost:8080/"
        },
        "outputId": "986e78c9-fc3e-4938-c218-a09feb007f47"
      },
      "source": [
        "print(\"=== Savings Goal Tracker ===\")\n",
        "\n",
        "goal_amount = float(input(\"Savings goal: $\"))\n",
        "current_savings = float(input(\"Current savings: $\"))\n",
        "\n",
        "# Calculate progress percentage\n",
        "progress = (current_savings / goal_amount) * 100\n",
        "\n",
        "print(f\"\\nProgress: {progress:.2f}%\")\n",
        "\n",
        "# Decision logic with multiple conditions\n",
        "if progress >= 100:\n",
        "    print(\"Goal achieved! Consider setting a new goal. 🎉\")\n",
        "elif progress >= 75:\n",
        "    print(\"Almost there! You're doing great. 💪\")\n",
        "elif progress >= 50:\n",
        "    print(\"Halfway there - keep it up! 🙌\")\n",
        "elif progress >= 25:\n",
        "    print(\"Good progress, stay consistent. 👍\")\n",
        "else:\n",
        "    print(\"Just getting started - you've got this! 🚀\")"
      ],
      "execution_count": 20,
      "outputs": [
        {
          "output_type": "stream",
          "name": "stdout",
          "text": [
            "=== Savings Goal Tracker ===\n",
            "Savings goal: $2000\n",
            "Current savings: $1500\n",
            "\n",
            "Progress: 75.00%\n",
            "Almost there! You're doing great. 💪\n"
          ]
        }
      ]
    },
    {
      "cell_type": "markdown",
      "metadata": {
        "id": "rzYAsQiFUSaD"
      },
      "source": [
        "---\n",
        "\n",
        "## Part 3: Smart Purchase Advisor (20 minutes)\n",
        "\n",
        "### The Challenge\n",
        "Build a program that helps users make smart purchase decisions by considering multiple factors.\n",
        "\n",
        "### Requirements\n",
        "\n",
        "Your purchase advisor should:\n",
        "\n",
        "1. Get purchase amount and user's available money\n",
        "2. Check if they can afford it (basic affordability)\n",
        "3. Give different advice based on purchase size\n",
        "4. Consider their financial situation\n",
        "\n",
        "### Starter Framework"
      ]
    },
    {
      "cell_type": "code",
      "metadata": {
        "id": "HzbPAjN0USaD",
        "colab": {
          "base_uri": "https://localhost:8080/"
        },
        "outputId": "d1f246d0-0b94-4798-b369-01b8dd81a2d5"
      },
      "source": [
        "print(\"=== Smart Purchase Advisor ===\")\n",
        "\n",
        "# Get financial information\n",
        "available_money = float(input(\"How much money do you have available? $\"))\n",
        "purchase_price = float(input(\"How much does the item cost? $\"))\n",
        "monthly_income = float(input(\"What's your monthly income? $\"))\n",
        "\n",
        "# Calculate affordability ratio\n",
        "affordability_ratio = purchase_price / available_money\n",
        "income_ratio = purchase_price / monthly_income\n",
        "\n",
        "# Decision logic\n",
        "if purchase_price > available_money:\n",
        "    print(\"You cannot afford this purchase right now. Save more before buying.\")\n",
        "elif affordability_ratio > 0.5:\n",
        "    print(\"This is a large expense relative to your available money. Think carefully!\")\n",
        "elif income_ratio > 0.25:\n",
        "    print(\"This purchase takes a big chunk of your monthly income. Consider if it's essential.\")\n",
        "elif purchase_price <= 0.1 * monthly_income:\n",
        "    print(\"This is a small, reasonable purchase. Go ahead if you really want it!\")\n",
        "else:\n",
        "    print(\"This seems affordable, but always consider your other expenses.\")\n",
        "\n",
        "# Optional: show remaining money if purchased\n",
        "remaining_money = available_money - purchase_price\n",
        "print(f\"Remaining money if you buy: ${remaining_money:.2f}\")"
      ],
      "execution_count": 23,
      "outputs": [
        {
          "output_type": "stream",
          "name": "stdout",
          "text": [
            "=== Smart Purchase Advisor ===\n",
            "How much money do you have available? $1500\n",
            "How much does the item cost? $700\n",
            "What's your monthly income? $4000\n",
            "This seems affordable, but always consider your other expenses.\n",
            "Remaining money if you buy: $800.00\n"
          ]
        }
      ]
    },
    {
      "cell_type": "markdown",
      "metadata": {
        "id": "_tC5axg-USaF"
      },
      "source": [
        "### Sample Decision Logic to Implement\n",
        "\n",
        "- **Can't afford**: \"Save up first - you need $X more\"\n",
        "- **Can afford but expensive**: \"You can afford it, but it's Y% of your available money. Consider waiting.\"\n",
        "- **Reasonable purchase**: \"This seems like a reasonable purchase for your budget\"\n",
        "- **Small purchase**: \"This is a minor expense - go for it!\"\n",
        "\n",
        "### Bonus Challenges\n",
        "\n",
        "If you finish early, add these features:\n",
        "\n",
        "1. **Emergency fund check**: Warn if purchase would drain emergency savings\n",
        "2. **Category-based advice**: Different advice for necessities vs luxuries\n",
        "3. **Payment plan calculator**: Show monthly payment options for large purchases\n",
        "\n",
        "---\n",
        "\n",
        "## Part 4: Building Your Finance Tracker Foundation (15 minutes)\n",
        "\n",
        "### Start Your Semester Project\n",
        "\n",
        "Create a new notebook called \"Personal_Finance_Tracker\" and build the foundation:"
      ]
    },
    {
      "cell_type": "code",
      "metadata": {
        "id": "dAYWWTPHUSaH",
        "colab": {
          "base_uri": "https://localhost:8080/"
        },
        "outputId": "8b809d4b-cb17-4156-e526-0021667b581c"
      },
      "source": [
        "print(\"=== Personal Finance Tracker v0.2 ===\")\n",
        "print(\"Week 3: Smart Budget Decisions\")\n",
        "print()\n",
        "\n",
        "# Sample user setup\n",
        "name = \"Tshering\"\n",
        "monthly_income = 3000.00  # Example monthly income\n",
        "\n",
        "print(f\"\\nWelcome to your finance tracker, {name}!\")\n",
        "print(f\"Monthly income: ${monthly_income:.2f}\")\n",
        "\n",
        "# Sample expense list (description, amount)\n",
        "sample_expenses = [\n",
        "    (\"Groceries\", 150.75),\n",
        "    (\"Transport\", 60.50),\n",
        "    (\"Dining Out\", 120.00),\n",
        "    (\"Online Shopping\", 500.00),\n",
        "    (\"Gym Membership\", 45.00)\n",
        "]\n",
        "\n",
        "# Initialize total expenses\n",
        "total_expenses = 0\n",
        "\n",
        "# Process each sample expense\n",
        "for expense_description, expense_amount in sample_expenses:\n",
        "    # Categorize expense\n",
        "    if expense_amount < monthly_income * 0.05:\n",
        "        category = \"Small expense\"\n",
        "        advice = \"Minor expense. Keep tracking.\"\n",
        "    elif expense_amount < monthly_income * 0.2:\n",
        "        category = \"Medium expense\"\n",
        "        advice = \"Moderate expense. Consider your goals.\"\n",
        "    else:\n",
        "        category = \"Large expense\"\n",
        "        advice = \"Significant expense. Make sure it's necessary.\"\n",
        "\n",
        "    total_expenses += expense_amount\n",
        "\n",
        "    # Display feedback\n",
        "    print(f\"\\nExpense recorded: ${expense_amount:.2f} - {expense_description}\")\n",
        "    print(f\"Category: {category}\")\n",
        "    print(f\"Advice: {advice}\")\n",
        "    print(f\"Total expenses so far: ${total_expenses:.2f}\")\n",
        "\n",
        "# Final summary\n",
        "remaining_budget = monthly_income - total_expenses\n",
        "print(\"\\n=== Summary ===\")\n",
        "print(f\"Total expenses: ${total_expenses:.2f}\")\n",
        "print(f\"Remaining budget: ${remaining_budget:.2f}\")\n",
        "\n",
        "if remaining_budget < 0:\n",
        "    print(\"Warning: You have overspent your budget! Consider adjusting your expenses next month.\")\n",
        "else:\n",
        "    print(\"Great! You are within your budget. Keep tracking your spending to save more.\")\n"
      ],
      "execution_count": 2,
      "outputs": [
        {
          "output_type": "stream",
          "name": "stdout",
          "text": [
            "=== Personal Finance Tracker v0.2 ===\n",
            "Week 3: Smart Budget Decisions\n",
            "\n",
            "\n",
            "Welcome to your finance tracker, Tshering!\n",
            "Monthly income: $3000.00\n",
            "\n",
            "Expense recorded: $150.75 - Groceries\n",
            "Category: Medium expense\n",
            "Advice: Moderate expense. Consider your goals.\n",
            "Total expenses so far: $150.75\n",
            "\n",
            "Expense recorded: $60.50 - Transport\n",
            "Category: Small expense\n",
            "Advice: Minor expense. Keep tracking.\n",
            "Total expenses so far: $211.25\n",
            "\n",
            "Expense recorded: $120.00 - Dining Out\n",
            "Category: Small expense\n",
            "Advice: Minor expense. Keep tracking.\n",
            "Total expenses so far: $331.25\n",
            "\n",
            "Expense recorded: $500.00 - Online Shopping\n",
            "Category: Medium expense\n",
            "Advice: Moderate expense. Consider your goals.\n",
            "Total expenses so far: $831.25\n",
            "\n",
            "Expense recorded: $45.00 - Gym Membership\n",
            "Category: Small expense\n",
            "Advice: Minor expense. Keep tracking.\n",
            "Total expenses so far: $876.25\n",
            "\n",
            "=== Summary ===\n",
            "Total expenses: $876.25\n",
            "Remaining budget: $2123.75\n",
            "Great! You are within your budget. Keep tracking your spending to save more.\n"
          ]
        }
      ]
    },
    {
      "cell_type": "markdown",
      "metadata": {
        "id": "58-KlCmaUSaJ"
      },
      "source": [
        "### Your Mission\n",
        "\n",
        "1. Implement the expense categorisation logic\n",
        "2. Add budget percentage calculations\n",
        "3. Give helpful feedback to the user\n",
        "4. Save this notebook - you'll expand it every week!\n",
        "\n",
        "---\n",
        "\n",
        "## Reflection Questions\n",
        "\n",
        "After completing the mini-project, consider:\n",
        "\n",
        "1. **Pattern Recognition**: How were the financial decisions similar to grade calculations?\n",
        "2. **Real-World Application**: Which financial decision logic would be most useful to you personally?\n",
        "3. **Logic Complexity**: What made some decisions harder to code than others?\n",
        "4. **Future Features**: What financial decisions would you like your tracker to help with?\n",
        "\n",
        "---\n",
        "\n",
        "## Looking Ahead\n",
        "\n",
        "### Next Week Preview\n",
        "\n",
        "Week 4 will add **loops** to your finance tracker:\n",
        "\n",
        "- Track multiple expenses in one session\n",
        "- Calculate running totals\n",
        "- Process transaction histories\n",
        "- Validate input until it's correct\n",
        "\n",
        "### Final Project Connection\n",
        "\n",
        "Each week adds new capabilities:\n",
        "\n",
        "- **Week 3**: Decision making (budget limits, categorisation)\n",
        "- **Week 4**: Repetition (multiple transactions, validation loops)\n",
        "- **Week 5**: Data storage (saving/loading financial data)\n",
        "- **Final**: AI integration (smart financial advice, pattern recognition)\n",
        "\n",
        "Your mini-projects are building blocks for something you'll actually want to use!\n",
        "\n",
        "---\n",
        "\n",
        "## Success Criteria\n",
        "\n",
        "**You'll know you're successful when**:\n",
        "- ✅ Your programs make different decisions based on financial data\n",
        "- ✅ You can explain why you chose specific budget thresholds\n",
        "- ✅ Your code handles various expense amounts appropriately\n",
        "- ✅ You see the connection between programming concepts and real financial decisions\n",
        "- ✅ You're excited about what you'll add to your tracker next week\n",
        "\n",
        "**Remember**: This is unassessed practice - focus on learning and experimenting!"
      ]
    }
  ],
  "metadata": {
    "kernelspec": {
      "display_name": "Python 3",
      "language": "python",
      "name": "python3"
    },
    "colab": {
      "provenance": [],
      "include_colab_link": true
    }
  },
  "nbformat": 4,
  "nbformat_minor": 0
}